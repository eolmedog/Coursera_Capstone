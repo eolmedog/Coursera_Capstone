{
 "cells": [
  {
   "cell_type": "markdown",
   "metadata": {},
   "source": [
    "# Introduction / Business Problem"
   ]
  },
  {
   "cell_type": "markdown",
   "metadata": {},
   "source": [
    "As a tourist, when visiting other countries or cities, it is always a problem to plan our itineraries.\n",
    "\n",
    "The overwhelmingly large number of interesting places to visit and so little time to do it make planning a visit a very stressful and frustrating by this freason, the tourist doesn't want to waste any time\n",
    "by either going to a boring place or by following a sub-optimal route between places.\n",
    "\n",
    "To solve this problem, this project focuses on getting from Foursquare the most popular venues from my home city (Santiago, Chile), and then cluster them by location so venues in each cluster are close together and can be visited in a day.\n",
    "\n",
    "The venues' number of ratings are going to be used to determine the popularity of each venue."
   ]
  },
  {
   "cell_type": "markdown",
   "metadata": {},
   "source": [
    "# Data"
   ]
  },
  {
   "cell_type": "markdown",
   "metadata": {},
   "source": [
    "The data used for this project will be exclusively data from the Foursquare API. Specifically, two endpoints will be used on our queries to Foursquare:   \n",
    "    <ul>\n",
    "    <li> Explore venues in the Santiago Area  \n",
    "    <li> For each venue, get its number of ratings\n",
    "    </ul>"
   ]
  },
  {
   "cell_type": "markdown",
   "metadata": {},
   "source": [
    "## Table examples\n",
    "The queries' response are in JSON Format, which will be converted to tables as described below:\n",
    "### Explore response table"
   ]
  },
  {
   "cell_type": "markdown",
   "metadata": {},
   "source": [
    "Below is an example of the table converted to DataFrame from the json response of the explore endpoint:\n",
    "\n",
    "<table>\n",
    "    <tr><th>Id</th><th>Name</th><th>Address</th><th>Latitude</th><th>Longitude</th><th>Category</th>\n",
    "<tr><td>4b70156df964a52048062de3<td>Museo Chileno de Arte Precolombino<td> \tBandera 361<td>-33.438776 \t<td>-70.652363<td>Museum\n",
    "<tr><td>4e5bddf918a8c204752b2c2d<td>Barrio Bellas Artes<td>NA<td>-33.436466<td>-70.644221<td>Neighborhood\n",
    "<tr><td>4bc6013cf360ef3b51f7da2d<td>New Horizon<td>Merced 565<td>-33.437960<td>-70.645083<td>Indian Restaurant\n",
    "<tr><td>4b5b7cdcf964a520ef0129e3<td>Teatro Municipal de Santiago<td>Agustinas 794<td>-33.440507<td>-70.647649<td>Theater\n",
    "<tr><td>4b8bf9a3f964a520d7b532e3<td>Waya's Gyros<td>Miraflores 482<td>-33.436994<td>-70.645689<td>Greek Restaurant"
   ]
  },
  {
   "cell_type": "markdown",
   "metadata": {},
   "source": [
    "### Ratings response"
   ]
  },
  {
   "cell_type": "markdown",
   "metadata": {},
   "source": [
    "Ratings response are just JSON strings with a summary of the number of likes and details on each like given. However, the free Foursquare API only supports 3 ratings details. Therefore, only the ratings count will be used from this\n",
    "<b> For example: </b> The following string is returned by Foursquare:\n",
    "\n",
    "{'meta': {'code': 200, 'requestId': '5df84032923935001c50f225'},  \n",
    " 'response': {'likes': {'count': 88,  \n",
    "   'summary': '88 Likes',  \n",
    "   'items': [{'id': '405662149',  \n",
    "     'firstName': 'Shachar',  \n",
    "     'lastName': 'Gi',  \n",
    "     'gender': 'male',  \n",
    "     'photo': {'prefix': 'https://fastly.4sqi.net/img/user/',  \n",
    "      'suffix': '/405662149_30KrlG7r_xcI4zIeuXV3OOS_hDWzWKHRmRUfblKmT2ADToWCOKY59eweRb33HhRIhoZMa0ft1.jpg'}},  \n",
    "    {'id': '49158378',  \n",
    "     'firstName': 'Elad',  \n",
    "     'lastName': 'Donsky',  \n",
    "     'gender': 'male',  \n",
    "     'photo': {'prefix': 'https://fastly.4sqi.net/img/user/',  \n",
    "      'suffix': '/49158378-SPK45DLDW1N52RMB.jpg'}},  \n",
    "    {'id': '125920250',  \n",
    "     'firstName': 'Abdullah',  \n",
    "     'lastName': '🎒',  \n",
    "     'gender': 'male',  \n",
    "     'photo': {'prefix': 'https://fastly.4sqi.net/img/user/',  \n",
    "      'suffix': '/125920250_U8Lp6EtN_VcR9E0PhRIBANI-GQksJGH32g_zN75OWLDHGcBAuGS7kztkrPCLkb-IK3RkgsgHz.jpg'}}]}}}\n",
    "\n"
   ]
  },
  {
   "cell_type": "markdown",
   "metadata": {},
   "source": [
    "For this project, only the ['likes']['count'] will be used on each venue (in this case: 88) and attached to the previous table, ending up with the following table"
   ]
  },
  {
   "cell_type": "markdown",
   "metadata": {},
   "source": [
    "<table>\n",
    "    <tr><th>Id</th><th>Name</th><th>Address</th><th>Latitude</th><th>Longitude</th><th>Category</th><th>Popularity</th>\n",
    "<tr><td>4b70156df964a52048062de3<td>Museo Chileno de Arte Precolombino<td> \tBandera 361<td>-33.438776 \t<td>-70.652363<td>Museum<td>88\n",
    "<tr><td>4e5bddf918a8c204752b2c2d<td>Barrio Bellas Artes<td>NA<td>-33.436466<td>-70.644221<td>Neighborhood<td>124\n",
    "<tr><td>4bc6013cf360ef3b51f7da2d<td>New Horizon<td>Merced 565<td>-33.437960<td>-70.645083<td>Indian Restaurant<td>78\n",
    "<tr><td>4b5b7cdcf964a520ef0129e3<td>Teatro Municipal de Santiago<td>Agustinas 794<td>-33.440507<td>-70.647649<td>Theater<td>521\n",
    "<tr><td>4b8bf9a3f964a520d7b532e3<td>Waya's Gyros<td>Miraflores 482<td>-33.436994<td>-70.645689<td>Greek Restaurant<td>134"
   ]
  },
  {
   "cell_type": "code",
   "execution_count": null,
   "metadata": {},
   "outputs": [],
   "source": []
  }
 ],
 "metadata": {
  "kernelspec": {
   "display_name": "",
   "name": ""
  },
  "language_info": {
   "name": ""
  }
 },
 "nbformat": 4,
 "nbformat_minor": 4
}
