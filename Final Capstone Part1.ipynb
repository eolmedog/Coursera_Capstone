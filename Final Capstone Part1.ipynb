{
 "cells": [
  {
   "cell_type": "markdown",
   "metadata": {},
   "source": [
    "# Introduction / Business Problem"
   ]
  },
  {
   "cell_type": "markdown",
   "metadata": {},
   "source": [
    "As a tourist, when visiting other countries or cities, it is always a problem to plan our itineraries.\n",
    "\n",
    "The overwhelmingly large number of interesting places to visit and so little time to do it make planning a visit a very stressful and frustrating by this freason, the tourist doesn't want to waste any time\n",
    "by either going to a boring place or by following a sub-optimal route between places.\n",
    "\n",
    "To solve this problem, this project focuses on getting from Foursquare the most popular venues from my home city (Santiago, Chile), and then cluster them by location so venues in each cluster are close together and can be visited in a day.\n",
    "\n",
    "The venues' number of ratings are going to be used to determine the popularity of each venue."
   ]
  },
  {
   "cell_type": "code",
   "execution_count": null,
   "metadata": {},
   "outputs": [],
   "source": []
  }
 ],
 "metadata": {
  "kernelspec": {
   "display_name": "",
   "name": ""
  },
  "language_info": {
   "name": ""
  }
 },
 "nbformat": 4,
 "nbformat_minor": 4
}
