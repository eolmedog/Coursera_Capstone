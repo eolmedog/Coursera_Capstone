{
 "cells": [
  {
   "cell_type": "code",
   "execution_count": 1,
   "metadata": {},
   "outputs": [],
   "source": [
    "import pandas as pd\n",
    "from bs4 import BeautifulSoup\n",
    "import requests"
   ]
  },
  {
   "cell_type": "code",
   "execution_count": 6,
   "metadata": {},
   "outputs": [
    {
     "name": "stdout",
     "output_type": "stream",
     "text": [
      "Searching for bs4\n",
      "Reading https://pypi.org/simple/bs4/\n",
      "Downloading https://files.pythonhosted.org/packages/10/ed/7e8b97591f6f456174139ec089c769f89a94a1a4025fe967691de971f314/bs4-0.0.1.tar.gz#sha256=36ecea1fd7cc5c0c6e4a1ff075df26d50da647b75376626cc186e2212886dd3a\n",
      "Best match: bs4 0.0.1\n",
      "Processing bs4-0.0.1.tar.gz\n",
      "Writing C:\\Users\\ENRIQU~1.OLM\\AppData\\Local\\Temp\\easy_install-izueymav\\bs4-0.0.1\\setup.cfg\n",
      "Running bs4-0.0.1\\setup.py -q bdist_egg --dist-dir C:\\Users\\ENRIQU~1.OLM\\AppData\\Local\\Temp\\easy_install-izueymav\\bs4-0.0.1\\egg-dist-tmp-wlx7vjyi\n",
      "Copying bs4-0.0.1-py3.6.egg to c:\\users\\enrique.olmedo\\appdata\\local\\continuum\\anaconda2\\envs\\py36\\lib\\site-packages\n",
      "Adding bs4 0.0.1 to easy-install.pth file\n",
      "\n",
      "Installed c:\\users\\enrique.olmedo\\appdata\\local\\continuum\\anaconda2\\envs\\py36\\lib\\site-packages\\bs4-0.0.1-py3.6.egg\n",
      "Processing dependencies for bs4\n",
      "Searching for beautifulsoup4\n",
      "Reading https://pypi.org/simple/beautifulsoup4/\n",
      "Downloading https://files.pythonhosted.org/packages/3b/c8/a55eb6ea11cd7e5ac4bacdf92bac4693b90d3ba79268be16527555e186f0/beautifulsoup4-4.8.1-py3-none-any.whl#sha256=dcdef580e18a76d54002088602eba453eec38ebbcafafeaabd8cab12b6155d57\n",
      "Best match: beautifulsoup4 4.8.1\n",
      "Processing beautifulsoup4-4.8.1-py3-none-any.whl\n",
      "Installing beautifulsoup4-4.8.1-py3-none-any.whl to c:\\users\\enrique.olmedo\\appdata\\local\\continuum\\anaconda2\\envs\\py36\\lib\\site-packages\n",
      "Adding beautifulsoup4 4.8.1 to easy-install.pth file\n",
      "\n",
      "Installed c:\\users\\enrique.olmedo\\appdata\\local\\continuum\\anaconda2\\envs\\py36\\lib\\site-packages\\beautifulsoup4-4.8.1-py3.6.egg\n",
      "Searching for soupsieve>=1.2\n",
      "Reading https://pypi.org/simple/soupsieve/\n",
      "Downloading https://files.pythonhosted.org/packages/81/94/03c0f04471fc245d08d0a99f7946ac228ca98da4fa75796c507f61e688c2/soupsieve-1.9.5-py2.py3-none-any.whl#sha256=bdb0d917b03a1369ce964056fc195cfdff8819c40de04695a80bc813c3cfa1f5\n",
      "Best match: soupsieve 1.9.5\n",
      "Processing soupsieve-1.9.5-py2.py3-none-any.whl\n",
      "Installing soupsieve-1.9.5-py2.py3-none-any.whl to c:\\users\\enrique.olmedo\\appdata\\local\\continuum\\anaconda2\\envs\\py36\\lib\\site-packages\n",
      "Adding soupsieve 1.9.5 to easy-install.pth file\n",
      "\n",
      "Installed c:\\users\\enrique.olmedo\\appdata\\local\\continuum\\anaconda2\\envs\\py36\\lib\\site-packages\\soupsieve-1.9.5-py3.6.egg\n",
      "Finished processing dependencies for bs4\n"
     ]
    },
    {
     "name": "stderr",
     "output_type": "stream",
     "text": [
      "WARNING: The easy_install command is deprecated and will be removed in a future version.\n",
      "warning: install_lib: 'build\\lib' does not exist -- no Python modules to install\n",
      "\n",
      "zip_safe flag not set; analyzing archive contents...\n"
     ]
    }
   ],
   "source": [
    "!easy_install bs4"
   ]
  },
  {
   "cell_type": "code",
   "execution_count": null,
   "metadata": {},
   "outputs": [],
   "source": []
  }
 ],
 "metadata": {
  "kernelspec": {
   "display_name": "py36",
   "language": "python",
   "name": "py36"
  },
  "language_info": {
   "codemirror_mode": {
    "name": "ipython",
    "version": 3
   },
   "file_extension": ".py",
   "mimetype": "text/x-python",
   "name": "python",
   "nbconvert_exporter": "python",
   "pygments_lexer": "ipython3",
   "version": "3.6.9"
  }
 },
 "nbformat": 4,
 "nbformat_minor": 2
}
